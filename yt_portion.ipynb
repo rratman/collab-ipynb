{
  "nbformat": 4,
  "nbformat_minor": 0,
  "metadata": {
    "colab": {
      "name": "yt portion.ipynb",
      "provenance": [],
      "collapsed_sections": []
    },
    "kernelspec": {
      "name": "python3",
      "display_name": "Python 3"
    },
    "language_info": {
      "name": "python"
    }
  },
  "cells": [
    {
      "cell_type": "code",
      "metadata": {
        "colab": {
          "base_uri": "https://localhost:8080/"
        },
        "id": "BQiX_1pCA0gR",
        "outputId": "ef57323c-3e83-4eef-a64a-7c4449564973"
      },
      "source": [
        "!pip install yt-dlp"
      ],
      "execution_count": 1,
      "outputs": [
        {
          "output_type": "stream",
          "name": "stdout",
          "text": [
            "Collecting yt-dlp\n",
            "  Downloading yt_dlp-2021.12.1-py2.py3-none-any.whl (2.4 MB)\n",
            "\u001b[K     |████████████████████████████████| 2.4 MB 8.8 MB/s \n",
            "\u001b[?25hCollecting mutagen\n",
            "  Downloading mutagen-1.45.1-py3-none-any.whl (218 kB)\n",
            "\u001b[K     |████████████████████████████████| 218 kB 58.5 MB/s \n",
            "\u001b[?25hCollecting pycryptodomex\n",
            "  Downloading pycryptodomex-3.11.0-cp35-abi3-manylinux2010_x86_64.whl (1.9 MB)\n",
            "\u001b[K     |████████████████████████████████| 1.9 MB 37.7 MB/s \n",
            "\u001b[?25hCollecting websockets\n",
            "  Downloading websockets-10.1-cp37-cp37m-manylinux_2_5_x86_64.manylinux1_x86_64.manylinux_2_12_x86_64.manylinux2010_x86_64.whl (111 kB)\n",
            "\u001b[K     |████████████████████████████████| 111 kB 61.4 MB/s \n",
            "\u001b[?25hInstalling collected packages: websockets, pycryptodomex, mutagen, yt-dlp\n",
            "Successfully installed mutagen-1.45.1 pycryptodomex-3.11.0 websockets-10.1 yt-dlp-2021.12.1\n"
          ]
        }
      ]
    },
    {
      "cell_type": "code",
      "metadata": {
        "colab": {
          "base_uri": "https://localhost:8080/"
        },
        "id": "QyDzZ3j4A4y6",
        "outputId": "d6dcabe0-71c1-4276-aff8-2229edd28f26"
      },
      "source": [
        "!yt-dlp -F https://www.youtube.com/watch?v=g-jKInHCMfk"
      ],
      "execution_count": 2,
      "outputs": [
        {
          "output_type": "stream",
          "name": "stdout",
          "text": [
            "[youtube] g-jKInHCMfk: Downloading webpage\n",
            "[youtube] g-jKInHCMfk: Downloading android player API JSON\n",
            "[youtube] g-jKInHCMfk: Downloading player eea703f3\n",
            "[info] Available formats for g-jKInHCMfk:\n",
            "\u001b[0;33mID\u001b[0m  \u001b[0;33mEXT\u001b[0m   \u001b[0;33mRESOLUTION\u001b[0m \u001b[0;33mFPS\u001b[0m \u001b[0;33m\u001b[0;34m│\u001b[0m\u001b[0m \u001b[0;33m   FILESIZE\u001b[0m \u001b[0;33m  TBR\u001b[0m \u001b[0;33mPROTO\u001b[0m \u001b[0;33m\u001b[0;34m│\u001b[0m\u001b[0m \u001b[0;33mVCODEC\u001b[0m      \u001b[0;33m  VBR\u001b[0m \u001b[0;33mACODEC\u001b[0m     \u001b[0;33m ABR\u001b[0m \u001b[0;33m    ASR\u001b[0m \u001b[0;33mMORE INFO\u001b[0m\n",
            "\u001b[0;34m─\u001b[0m\u001b[0;34m─\u001b[0m\u001b[0;34m─\u001b[0m\u001b[0;34m─\u001b[0m\u001b[0;34m─\u001b[0m\u001b[0;34m─\u001b[0m\u001b[0;34m─\u001b[0m\u001b[0;34m─\u001b[0m\u001b[0;34m─\u001b[0m\u001b[0;34m─\u001b[0m\u001b[0;34m─\u001b[0m\u001b[0;34m─\u001b[0m\u001b[0;34m─\u001b[0m\u001b[0;34m─\u001b[0m\u001b[0;34m─\u001b[0m\u001b[0;34m─\u001b[0m\u001b[0;34m─\u001b[0m\u001b[0;34m─\u001b[0m\u001b[0;34m─\u001b[0m\u001b[0;34m─\u001b[0m\u001b[0;34m─\u001b[0m\u001b[0;34m─\u001b[0m\u001b[0;34m─\u001b[0m\u001b[0;34m─\u001b[0m\u001b[0;34m─\u001b[0m\u001b[0;34m─\u001b[0m\u001b[0;34m─\u001b[0m\u001b[0;34m─\u001b[0m\u001b[0;34m─\u001b[0m\u001b[0;34m─\u001b[0m\u001b[0;34m─\u001b[0m\u001b[0;34m─\u001b[0m\u001b[0;34m─\u001b[0m\u001b[0;34m─\u001b[0m\u001b[0;34m─\u001b[0m\u001b[0;34m─\u001b[0m\u001b[0;34m─\u001b[0m\u001b[0;34m─\u001b[0m\u001b[0;34m─\u001b[0m\u001b[0;34m─\u001b[0m\u001b[0;34m─\u001b[0m\u001b[0;34m─\u001b[0m\u001b[0;34m─\u001b[0m\u001b[0;34m─\u001b[0m\u001b[0;34m─\u001b[0m\u001b[0;34m─\u001b[0m\u001b[0;34m─\u001b[0m\u001b[0;34m─\u001b[0m\u001b[0;34m─\u001b[0m\u001b[0;34m─\u001b[0m\u001b[0;34m─\u001b[0m\u001b[0;34m─\u001b[0m\u001b[0;34m─\u001b[0m\u001b[0;34m─\u001b[0m\u001b[0;34m─\u001b[0m\u001b[0;34m─\u001b[0m\u001b[0;34m─\u001b[0m\u001b[0;34m─\u001b[0m\u001b[0;34m─\u001b[0m\u001b[0;34m─\u001b[0m\u001b[0;34m─\u001b[0m\u001b[0;34m─\u001b[0m\u001b[0;34m─\u001b[0m\u001b[0;34m─\u001b[0m\u001b[0;34m─\u001b[0m\u001b[0;34m─\u001b[0m\u001b[0;34m─\u001b[0m\u001b[0;34m─\u001b[0m\u001b[0;34m─\u001b[0m\u001b[0;34m─\u001b[0m\u001b[0;34m─\u001b[0m\u001b[0;34m─\u001b[0m\u001b[0;34m─\u001b[0m\u001b[0;34m─\u001b[0m\u001b[0;34m─\u001b[0m\u001b[0;34m─\u001b[0m\u001b[0;34m─\u001b[0m\u001b[0;34m─\u001b[0m\u001b[0;34m─\u001b[0m\u001b[0;34m─\u001b[0m\u001b[0;34m─\u001b[0m\u001b[0;34m─\u001b[0m\u001b[0;34m─\u001b[0m\u001b[0;34m─\u001b[0m\u001b[0;34m─\u001b[0m\u001b[0;34m─\u001b[0m\u001b[0;34m─\u001b[0m\u001b[0;34m─\u001b[0m\u001b[0;34m─\u001b[0m\u001b[0;34m─\u001b[0m\u001b[0;34m─\u001b[0m\u001b[0;34m─\u001b[0m\u001b[0;34m─\u001b[0m\u001b[0;34m─\u001b[0m\u001b[0;34m─\u001b[0m\u001b[0;34m─\u001b[0m\u001b[0;34m─\u001b[0m\u001b[0;34m─\u001b[0m\u001b[0;34m─\u001b[0m\u001b[0;34m─\u001b[0m\u001b[0;34m─\u001b[0m\u001b[0;34m─\u001b[0m\u001b[0;34m─\u001b[0m\u001b[0;34m─\u001b[0m\u001b[0;34m─\u001b[0m\u001b[0;34m─\u001b[0m\u001b[0;34m─\u001b[0m\u001b[0;34m─\u001b[0m\u001b[0;34m─\u001b[0m\u001b[0;34m─\u001b[0m\u001b[0;34m─\u001b[0m\u001b[0;34m─\u001b[0m\u001b[0;34m─\u001b[0m\u001b[0;34m─\u001b[0\n",
            "\u001b[0;32msb2\u001b[0m mhtml 48x27          \u001b[0;34m│\u001b[0m                   mhtml \u001b[0;34m│\u001b[0m images                                    storyboard\n",
            "\u001b[0;32msb1\u001b[0m mhtml 80x45          \u001b[0;34m│\u001b[0m                   mhtml \u001b[0;34m│\u001b[0m images                                    storyboard\n",
            "\u001b[0;32msb0\u001b[0m mhtml 160x90         \u001b[0;34m│\u001b[0m                   mhtml \u001b[0;34m│\u001b[0m images                                    storyboard\n",
            "\u001b[0;32m139\u001b[0m m4a                  \u001b[0;34m│\u001b[0m    93.38MiB   48k https \u001b[0;34m│\u001b[0m \u001b[0;90maudio only\u001b[0m        mp4a.40.5   48k 22050Hz low, m4a_dash\n",
            "\u001b[0;32m249\u001b[0m webm                 \u001b[0;34m│\u001b[0m   108.68MiB   56k https \u001b[0;34m│\u001b[0m \u001b[0;90maudio only\u001b[0m        opus        56k 48000Hz low, webm_dash\n",
            "\u001b[0;32m250\u001b[0m webm                 \u001b[0;34m│\u001b[0m   140.97MiB   73k https \u001b[0;34m│\u001b[0m \u001b[0;90maudio only\u001b[0m        opus        73k 48000Hz low, webm_dash\n",
            "\u001b[0;32m140\u001b[0m m4a                  \u001b[0;34m│\u001b[0m   247.84MiB  129k https \u001b[0;34m│\u001b[0m \u001b[0;90maudio only\u001b[0m        mp4a.40.2  129k 44100Hz medium, m4a_dash\n",
            "\u001b[0;32m251\u001b[0m webm                 \u001b[0;34m│\u001b[0m   269.28MiB  140k https \u001b[0;34m│\u001b[0m \u001b[0;90maudio only\u001b[0m        opus       140k 48000Hz medium, webm_dash\n",
            "\u001b[0;32m17\u001b[0m  3gp   176x144      8 \u001b[0;34m│\u001b[0m   164.93MiB   86k https \u001b[0;34m│\u001b[0m mp4v.20.3     86k mp4a.40.2    0k 22050Hz 144p\n",
            "\u001b[0;32m160\u001b[0m mp4   256x144     30 \u001b[0;34m│\u001b[0m   125.39MiB   65k https \u001b[0;34m│\u001b[0m avc1.4d400c   65k \u001b[0;90mvideo only\u001b[0m              144p, mp4_dash\n",
            "\u001b[0;32m278\u001b[0m webm  256x144     30 \u001b[0;34m│\u001b[0m   146.26MiB   76k https \u001b[0;34m│\u001b[0m vp9           76k \u001b[0;90mvideo only\u001b[0m              144p, webm_dash\n",
            "\u001b[0;32m133\u001b[0m mp4   426x240     30 \u001b[0;34m│\u001b[0m   288.71MiB  150k https \u001b[0;34m│\u001b[0m avc1.4d4015  150k \u001b[0;90mvideo only\u001b[0m              240p, mp4_dash\n",
            "\u001b[0;32m242\u001b[0m webm  426x240     30 \u001b[0;34m│\u001b[0m   228.89MiB  119k https \u001b[0;34m│\u001b[0m vp9          119k \u001b[0;90mvideo only\u001b[0m              240p, webm_dash\n",
            "\u001b[0;32m134\u001b[0m mp4   640x360     30 \u001b[0;34m│\u001b[0m   526.62MiB  275k https \u001b[0;34m│\u001b[0m avc1.4d401e  275k \u001b[0;90mvideo only\u001b[0m              360p, mp4_dash\n",
            "\u001b[0;32m18\u001b[0m  mp4   640x360     30 \u001b[0;34m│\u001b[0m   659.21MiB  344k https \u001b[0;34m│\u001b[0m avc1.42001E  344k mp4a.40.2    0k 44100Hz 360p\n",
            "\u001b[0;32m243\u001b[0m webm  640x360     30 \u001b[0;34m│\u001b[0m   441.13MiB  230k https \u001b[0;34m│\u001b[0m vp9          230k \u001b[0;90mvideo only\u001b[0m              360p, webm_dash\n",
            "\u001b[0;32m135\u001b[0m mp4   854x480     30 \u001b[0;34m│\u001b[0m  1010.82MiB  528k https \u001b[0;34m│\u001b[0m avc1.4d401f  528k \u001b[0;90mvideo only\u001b[0m              480p, mp4_dash\n",
            "\u001b[0;32m244\u001b[0m webm  854x480     30 \u001b[0;34m│\u001b[0m   761.98MiB  398k https \u001b[0;34m│\u001b[0m vp9          398k \u001b[0;90mvideo only\u001b[0m              480p, webm_dash\n",
            "\u001b[0;32m136\u001b[0m mp4   1280x720    30 \u001b[0;34m│\u001b[0m     1.97GiB 1054k https \u001b[0;34m│\u001b[0m avc1.64001f 1054k \u001b[0;90mvideo only\u001b[0m              720p, mp4_dash\n",
            "\u001b[0;32m22\u001b[0m  mp4   1280x720    30 \u001b[0;34m│\u001b[0m ~   2.26GiB 1182k https \u001b[0;34m│\u001b[0m avc1.64001F 1182k mp4a.40.2    0k 44100Hz 720p\n",
            "\u001b[0;32m247\u001b[0m webm  1280x720    30 \u001b[0;34m│\u001b[0m     1.59GiB  851k https \u001b[0;34m│\u001b[0m vp9          851k \u001b[0;90mvideo only\u001b[0m              720p, webm_dash\n",
            "\u001b[0;32m298\u001b[0m mp4   1280x720    60 \u001b[0;34m│\u001b[0m     3.04GiB 1626k https \u001b[0;34m│\u001b[0m avc1.640020 1626k \u001b[0;90mvideo only\u001b[0m              720p60, mp4_dash\n",
            "\u001b[0;32m302\u001b[0m webm  1280x720    60 \u001b[0;34m│\u001b[0m     2.13GiB 1138k https \u001b[0;34m│\u001b[0m vp9         1138k \u001b[0;90mvideo only\u001b[0m              720p60, webm_dash\n",
            "\u001b[0;32m299\u001b[0m mp4   1920x1080   60 \u001b[0;34m│\u001b[0m     6.02GiB 3218k https \u001b[0;34m│\u001b[0m avc1.64002a 3218k \u001b[0;90mvideo only\u001b[0m              1080p60, mp4_dash\n",
            "\u001b[0;32m303\u001b[0m webm  1920x1080   60 \u001b[0;34m│\u001b[0m     4.77GiB 2549k https \u001b[0;34m│\u001b[0m vp9         2549k \u001b[0;90mvideo only\u001b[0m              1080p60, webm_dash\n"
          ]
        }
      ]
    },
    {
      "cell_type": "code",
      "metadata": {
        "colab": {
          "base_uri": "https://localhost:8080/"
        },
        "id": "GKSNUZoKyBZi",
        "outputId": "68dc4f54-bc4b-412c-a7b8-8ce725b7c572"
      },
      "source": [
        "!yt-dlp --youtube-skip-dash-manifest -g -f 299 https://www.youtube.com/watch?v=g-jKInHCMfk"
      ],
      "execution_count": 4,
      "outputs": [
        {
          "output_type": "stream",
          "name": "stdout",
          "text": [
            "https://r1---sn-q4fl6nsk.googlevideo.com/videoplayback?expire=1638445723&ei=O16oYbnAHtiokwaj-ZAI&ip=34.125.124.121&id=o-APWGZvQO1JVM4PLKHkRVV0HrB4TNmp-xlU91VovRInqS&itag=299&source=youtube&requiressl=yes&mh=Qp&mm=31%2C26&mn=sn-q4fl6nsk%2Csn-5go7yner&ms=au%2Conr&mv=u&mvi=1&pl=25&vprv=1&mime=video%2Fmp4&gir=yes&clen=6460031263&dur=16058.000&lmt=1638382923839416&mt=1638423394&fvip=1&keepalive=yes&fexp=24001373%2C24007246&c=ANDROID&txp=7316222&sparams=expire%2Cei%2Cip%2Cid%2Citag%2Csource%2Crequiressl%2Cvprv%2Cmime%2Cgir%2Cclen%2Cdur%2Clmt&sig=AOq0QJ8wRgIhANBYcfI8UODKRHQil2ucsmva9VX-12KzHs7xIulljZ9XAiEAx1iCGRElG1Yu2cYxwKNGy1EOuTU-z2KqFFbzgFzLkPw%3D&lsparams=mh%2Cmm%2Cmn%2Cms%2Cmv%2Cmvi%2Cpl&lsig=AG3C_xAwRQIgSReDi2gmaIw7MpisLKtGiLpro4_zTmbKUBa5uweR6qwCIQDeXzSsgqBCim9kAwKALYfaajBOPNBzgDmLy5cFKUOTuQ%3D%3D\n"
          ]
        }
      ]
    },
    {
      "cell_type": "code",
      "metadata": {
        "colab": {
          "base_uri": "https://localhost:8080/"
        },
        "id": "xPtOAQF1yKIo",
        "outputId": "74c0e83b-038f-4134-93fe-8add445e0d72"
      },
      "source": [
        "!yt-dlp --youtube-skip-dash-manifest -g -f 140 https://www.youtube.com/watch?v=g-jKInHCMfk"
      ],
      "execution_count": 5,
      "outputs": [
        {
          "output_type": "stream",
          "name": "stdout",
          "text": [
            "https://r1---sn-q4flrney.googlevideo.com/videoplayback?expire=1638445725&ei=PV6oYc6YJa-ZsfIP1YuKMA&ip=34.125.124.121&id=o-ACZAGjfX-eYVzynpH1TjBHO5xU6xp0yr9LbbJXtZloac&itag=140&source=youtube&requiressl=yes&mh=Qp&mm=31%2C29&mn=sn-q4flrney%2Csn-q4fl6nsk&ms=au%2Crdu&mv=m&mvi=1&pl=25&vprv=1&mime=audio%2Fmp4&gir=yes&clen=259882543&dur=16058.060&lmt=1638383645463398&mt=1638423894&fvip=1&keepalive=yes&fexp=24001373%2C24007246&c=ANDROID&txp=7311222&sparams=expire%2Cei%2Cip%2Cid%2Citag%2Csource%2Crequiressl%2Cvprv%2Cmime%2Cgir%2Cclen%2Cdur%2Clmt&sig=AOq0QJ8wRgIhAL5qIRAkIoSmiiM2EjadnZ4kQWMlfDmAgEjx1EMdoYgQAiEA3r_np9_oh2wfs2IdRonaeJn_iqH5_b3ChyWGi2aixqY%3D&lsparams=mh%2Cmm%2Cmn%2Cms%2Cmv%2Cmvi%2Cpl&lsig=AG3C_xAwRAIgZUSiM1UxEjZNp3GHEzO_q8v1CxnTwmENvXxjqIZUawsCIHr_5E-wDoIHGooCUyB0zmy7AzkPVWJZ3dx3PT8FlORe\n"
          ]
        }
      ]
    },
    {
      "cell_type": "code",
      "metadata": {
        "colab": {
          "base_uri": "https://localhost:8080/"
        },
        "id": "nXUsPBs8y09N",
        "outputId": "27a90b2c-292f-4f82-c7aa-8b4397793fdb"
      },
      "source": [
        "# The first URL\n",
        "video_url=\"https://r1---sn-q4fl6nsk.googlevideo.com/videoplayback?expire=1638445723&ei=O16oYbnAHtiokwaj-ZAI&ip=34.125.124.121&id=o-APWGZvQO1JVM4PLKHkRVV0HrB4TNmp-xlU91VovRInqS&itag=299&source=youtube&requiressl=yes&mh=Qp&mm=31%2C26&mn=sn-q4fl6nsk%2Csn-5go7yner&ms=au%2Conr&mv=u&mvi=1&pl=25&vprv=1&mime=video%2Fmp4&gir=yes&clen=6460031263&dur=16058.000&lmt=1638382923839416&mt=1638423394&fvip=1&keepalive=yes&fexp=24001373%2C24007246&c=ANDROID&txp=7316222&sparams=expire%2Cei%2Cip%2Cid%2Citag%2Csource%2Crequiressl%2Cvprv%2Cmime%2Cgir%2Cclen%2Cdur%2Clmt&sig=AOq0QJ8wRgIhANBYcfI8UODKRHQil2ucsmva9VX-12KzHs7xIulljZ9XAiEAx1iCGRElG1Yu2cYxwKNGy1EOuTU-z2KqFFbzgFzLkPw%3D&lsparams=mh%2Cmm%2Cmn%2Cms%2Cmv%2Cmvi%2Cpl&lsig=AG3C_xAwRQIgSReDi2gmaIw7MpisLKtGiLpro4_zTmbKUBa5uweR6qwCIQDeXzSsgqBCim9kAwKALYfaajBOPNBzgDmLy5cFKUOTuQ%3D%3D\"\n",
        "# The second URL\n",
        "audio_url=\"https://r3---sn-p5qs7n76.googlevideo.com/videoplayback?expire=1638383381&ei=tWqnYafSHYqlhwaA-obgCA&ip=34.86.53.53&id=o-AMrQSk6WvJ0UvbBdpngV7rM06pyzJbmTUswMRvrreKBH&itag=140&source=youtube&requiressl=yes&mh=Ln&mm=31%2C26&mn=sn-p5qs7n76%2Csn-ab5l6n67&ms=au%2Conr&mv=u&mvi=3&pl=22&vprv=1&mime=audio%2Fmp4&gir=yes&clen=394872311&dur=24399.062&lmt=1638356256878294&mt=1638361469&fvip=3&keepalive=yes&fexp=24001373%2C24007246&c=ANDROID&txp=7311222&sparams=expire%2Cei%2Cip%2Cid%2Citag%2Csource%2Crequiressl%2Cvprv%2Cmime%2Cgir%2Cclen%2Cdur%2Clmt&sig=AOq0QJ8wRQIhAOUilmW3wcliHYgvUyGsjYnSXq_yNI96-iUr9UiRnnXAAiBZIxU6XrnXJbZ_yjcfas1Hs9gqoKjD58UE_IR_uC6Reg%3D%3D&lsparams=mh%2Cmm%2Cmn%2Cms%2Cmv%2Cmvi%2Cpl&lsig=AG3C_xAwRgIhAIq2T6fAj__B9mTePFih4Mdid97erdJhCYGv5fg8F_rBAiEAwtYqwvaNf_NBUEFH16jwlLyYi4qFruWYUlUZKg6MFLg%3D\"\n",
        "!ffmpeg -ss 04:46:30 -i \"$video_url\" -ss 04:46:30 -i \"$audio_url\" -map 0:v -map 1:a -ss 30 -t 15:00 -c copy \"/content/drive/Shareddrives/Jalan Menuju Surga/【JUMP KING DLC FINALE】We Are Getting That Babe. (feat. Crying in Alone in Voice Chat).mp4\""
      ],
      "execution_count": null,
      "outputs": [
        {
          "output_type": "stream",
          "name": "stdout",
          "text": [
            "ffmpeg version 3.4.8-0ubuntu0.2 Copyright (c) 2000-2020 the FFmpeg developers\n",
            "  built with gcc 7 (Ubuntu 7.5.0-3ubuntu1~18.04)\n",
            "  configuration: --prefix=/usr --extra-version=0ubuntu0.2 --toolchain=hardened --libdir=/usr/lib/x86_64-linux-gnu --incdir=/usr/include/x86_64-linux-gnu --enable-gpl --disable-stripping --enable-avresample --enable-avisynth --enable-gnutls --enable-ladspa --enable-libass --enable-libbluray --enable-libbs2b --enable-libcaca --enable-libcdio --enable-libflite --enable-libfontconfig --enable-libfreetype --enable-libfribidi --enable-libgme --enable-libgsm --enable-libmp3lame --enable-libmysofa --enable-libopenjpeg --enable-libopenmpt --enable-libopus --enable-libpulse --enable-librubberband --enable-librsvg --enable-libshine --enable-libsnappy --enable-libsoxr --enable-libspeex --enable-libssh --enable-libtheora --enable-libtwolame --enable-libvorbis --enable-libvpx --enable-libwavpack --enable-libwebp --enable-libx265 --enable-libxml2 --enable-libxvid --enable-libzmq --enable-libzvbi --enable-omx --enable-openal --enable-opengl --enable-sdl2 --enable-libdc1394 --enable-libdrm --enable-libiec61883 --enable-chromaprint --enable-frei0r --enable-libopencv --enable-libx264 --enable-shared\n",
            "  libavutil      55. 78.100 / 55. 78.100\n",
            "  libavcodec     57.107.100 / 57.107.100\n",
            "  libavformat    57. 83.100 / 57. 83.100\n",
            "  libavdevice    57. 10.100 / 57. 10.100\n",
            "  libavfilter     6.107.100 /  6.107.100\n",
            "  libavresample   3.  7.  0 /  3.  7.  0\n",
            "  libswscale      4.  8.100 /  4.  8.100\n",
            "  libswresample   2.  9.100 /  2.  9.100\n",
            "  libpostproc    54.  7.100 / 54.  7.100\n",
            "Input #0, mov,mp4,m4a,3gp,3g2,mj2, from 'https://r3---sn-p5qs7n76.googlevideo.com/videoplayback?expire=1638383379&ei=s2qnYaiDIJXGhwbYmLDoCw&ip=34.86.53.53&id=o-ALSb-WAyYyRYCnm8rBqIp5NEISJRA4VZDo-i9igGdUXs&itag=299&source=youtube&requiressl=yes&mh=Ln&mm=31%2C26&mn=sn-p5qs7n76%2Csn-ab5l6n67&ms=au%2Conr&mv=u&mvi=3&pl=22&vprv=1&mime=video%2Fmp4&gir=yes&clen=11250808266&dur=24399.000&lmt=1638354955956132&mt=1638361469&fvip=3&keepalive=yes&fexp=24001373%2C24007246&c=ANDROID&txp=7316222&sparams=expire%2Cei%2Cip%2Cid%2Citag%2Csource%2Crequiressl%2Cvprv%2Cmime%2Cgir%2Cclen%2Cdur%2Clmt&sig=AOq0QJ8wRAIgDiMYJae-CGyJKlTg056NbFjxEgcT_PPsES40cMG-GI8CIDHhMaW3lN2cPUp9tFja1xa5rcqMzluKW7IDAZKtVWKY&lsparams=mh%2Cmm%2Cmn%2Cms%2Cmv%2Cmvi%2Cpl&lsig=AG3C_xAwRQIhAM7ebxFz8FDlO2P5iN589BwkzmbEQUjZej_PByW7VRHtAiBO5FkszOwJfcVD0DtR2XPjVTmLnLrVYWDrRm6GsuxI1w%3D%3D':\n",
            "  Metadata:\n",
            "    major_brand     : dash\n",
            "    minor_version   : 0\n",
            "    compatible_brands: iso6avc1mp41\n",
            "    creation_time   : 2021-12-01T10:36:04.000000Z\n",
            "  Duration: 06:46:39.00, start: 0.000000, bitrate: 3688 kb/s\n",
            "    Stream #0:0(und): Video: h264 (High) (avc1 / 0x31637661), yuv420p(tv, bt709, progressive), 1920x1080 [SAR 1:1 DAR 16:9], 0 kb/s, 60 fps, 60 tbr, 15360 tbn, 120 tbc (default)\n",
            "    Metadata:\n",
            "      creation_time   : 2021-12-01T10:36:04.000000Z\n",
            "      handler_name    : ISO Media file produced by Google Inc.\n",
            "Input #1, mov,mp4,m4a,3gp,3g2,mj2, from 'https://r3---sn-p5qs7n76.googlevideo.com/videoplayback?expire=1638383381&ei=tWqnYafSHYqlhwaA-obgCA&ip=34.86.53.53&id=o-AMrQSk6WvJ0UvbBdpngV7rM06pyzJbmTUswMRvrreKBH&itag=140&source=youtube&requiressl=yes&mh=Ln&mm=31%2C26&mn=sn-p5qs7n76%2Csn-ab5l6n67&ms=au%2Conr&mv=u&mvi=3&pl=22&vprv=1&mime=audio%2Fmp4&gir=yes&clen=394872311&dur=24399.062&lmt=1638356256878294&mt=1638361469&fvip=3&keepalive=yes&fexp=24001373%2C24007246&c=ANDROID&txp=7311222&sparams=expire%2Cei%2Cip%2Cid%2Citag%2Csource%2Crequiressl%2Cvprv%2Cmime%2Cgir%2Cclen%2Cdur%2Clmt&sig=AOq0QJ8wRQIhAOUilmW3wcliHYgvUyGsjYnSXq_yNI96-iUr9UiRnnXAAiBZIxU6XrnXJbZ_yjcfas1Hs9gqoKjD58UE_IR_uC6Reg%3D%3D&lsparams=mh%2Cmm%2Cmn%2Cms%2Cmv%2Cmvi%2Cpl&lsig=AG3C_xAwRgIhAIq2T6fAj__B9mTePFih4Mdid97erdJhCYGv5fg8F_rBAiEAwtYqwvaNf_NBUEFH16jwlLyYi4qFruWYUlUZKg6MFLg%3D':\n",
            "  Metadata:\n",
            "    major_brand     : dash\n",
            "    minor_version   : 0\n",
            "    compatible_brands: iso6mp41\n",
            "    creation_time   : 2021-12-01T10:35:55.000000Z\n",
            "  Duration: 06:46:39.06, start: 0.000000, bitrate: 129 kb/s\n",
            "    Stream #1:0(eng): Audio: aac (LC) (mp4a / 0x6134706D), 44100 Hz, stereo, fltp, 0 kb/s (default)\n",
            "    Metadata:\n",
            "      creation_time   : 2021-12-01T10:35:55.000000Z\n",
            "      handler_name    : ISO Media file produced by Google Inc.\n",
            "File '/content/drive/Shareddrives/Jalan Menuju Surga/【JUMP KING DLC FINALE】We Are Getting That Babe. (feat. Crying in Alone in Voice Chat).mp4' already exists. Overwrite ? [y/N] y\n",
            "Output #0, mp4, to '/content/drive/Shareddrives/Jalan Menuju Surga/【JUMP KING DLC FINALE】We Are Getting That Babe. (feat. Crying in Alone in Voice Chat).mp4':\n",
            "  Metadata:\n",
            "    major_brand     : dash\n",
            "    minor_version   : 0\n",
            "    compatible_brands: iso6avc1mp41\n",
            "    encoder         : Lavf57.83.100\n",
            "    Stream #0:0(und): Video: h264 (High) (avc1 / 0x31637661), yuv420p(tv, bt709, progressive), 1920x1080 [SAR 1:1 DAR 16:9], q=2-31, 0 kb/s, 60 fps, 60 tbr, 15360 tbn, 15360 tbc (default)\n",
            "    Metadata:\n",
            "      creation_time   : 2021-12-01T10:36:04.000000Z\n",
            "      handler_name    : ISO Media file produced by Google Inc.\n",
            "    Stream #0:1(eng): Audio: aac (LC) (mp4a / 0x6134706D), 44100 Hz, stereo, fltp, 0 kb/s (default)\n",
            "    Metadata:\n",
            "      creation_time   : 2021-12-01T10:35:55.000000Z\n",
            "      handler_name    : ISO Media file produced by Google Inc.\n",
            "Stream mapping:\n",
            "  Stream #0:0 -> #0:0 (copy)\n",
            "  Stream #1:0 -> #0:1 (copy)\n",
            "Press [q] to stop, [?] for help\n",
            "frame=53701 fps=129 q=-1.0 Lsize=  385979kB time=00:14:59.99 bitrate=3513.3kbits/s speed=2.16x    \n",
            "video:370732kB audio:14063kB subtitle:0kB other streams:0kB global headers:0kB muxing overhead: 0.307736%\n"
          ]
        }
      ]
    },
    {
      "cell_type": "code",
      "metadata": {
        "colab": {
          "base_uri": "https://localhost:8080/"
        },
        "id": "qGvMcOZo9-Iq",
        "outputId": "0fa408f8-614f-44c3-8199-7c96ba93d5f9"
      },
      "source": [
        ""
      ],
      "execution_count": 3,
      "outputs": [
        {
          "output_type": "stream",
          "name": "stdout",
          "text": [
            "Mounted at /content/drive\n"
          ]
        }
      ]
    }
  ]
}